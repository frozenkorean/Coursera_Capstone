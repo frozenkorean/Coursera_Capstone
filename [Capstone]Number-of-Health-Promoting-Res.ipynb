{
    "nbformat_minor": 4, 
    "cells": [
        {
            "source": "# Number of Health-Promoting Resources in Each Community of Chicago and Life Expectancy at Birth", 
            "cell_type": "markdown", 
            "metadata": {}
        }, 
        {
            "source": "## Table of contents\n* [Introduction/Business Problem](#introduction)\n* [Data](#data)\n* [Methodology](#methodology)\n* [Analysis](#analysis)\n* [Results and Discussion](#results)\n* [Conclusion](#conclusion)\n* [References](#references)", 
            "cell_type": "markdown", 
            "metadata": {}
        }, 
        {
            "source": "## Introduction/Business Problem <a name=\"introduction\"></a>", 
            "cell_type": "markdown", 
            "metadata": {}
        }, 
        {
            "source": "In a recent study by NYU School of Medicine, Chicago was found to have the broadest gap in life expectancy at birth across neighborhoods among 500 largest cities in the US (NYU Langone News, 2019). There is a 30-year gap in life expectancy between residents living in Streeterville and people living in Englewood, neighborhoods that are only 9 miles apart (Schencker, 2019). There are many possible factors that could contribute to this disparity in life expectancy including differences in education, race/ethnicity, income, and access to health promoting resources (Hunt, Tran, & Whitman, 2015; Singh et al., 2017). These are some of the social determinants of health, which are \u201cconditions in which people are born, grow, live, work, and age\u201d; these are affected by social structures in turn (Marmot et al., 2012).\n\nAmong the social determinants, disparities in race/ethnicity appears to have a substantial effect on the gap in life expectancy (Hunt et al., 2015). This, in turn, may be caused by residential segregation (Williams & Jackson, 2005). Chicago, along with other cities with a wide gap in life expectancy, is highly segregated in terms of race and ethnicity (NYU Langone News, 2019). Even after adjusting for socioeconomic status, segregation due to race/ethnicity can have a profound effect on health through differential exposure to physical environment of neighborhoods, poverty, and economic and educational opportunities (White & Borrell, 2011; Williams & Jackson, 2005). Access to health-promoting resources of neighborhoods, including sports facilities, outdoor places, healthcare, and healthy food has been found to be very important for health, with segregation and disparate allocation of resources having negative effect on health (Billaudeau et al., 2011; Coen & Ross, 2006; Inagami, Cohen, Finch, & Asch, 2006; Kawakami, Winkleby, Skog, Szulkin, & Sundquist, 2011).\n\nIn this study, to explore this disparity between neighborhoods further, I used the Foursquare API to search for health-promoting venues in each community and clustered the communities using k-means clustering based on the frequency of each category of those venues. Those clusters were compared in terms of life expectancy. The clusters were also mapped on a choropleth map of Chicago communities so that government officials and any stakeholders in the healthcare business of Chicago can identify the areas of need and allocate their resources accordingly.\n", 
            "cell_type": "markdown", 
            "metadata": {}
        }, 
        {
            "source": "## Data <a name=\"data\"></a>", 
            "cell_type": "markdown", 
            "metadata": {}
        }, 
        {
            "source": "Life expectancy at birth data for each community of Chicago for year 2010 (census year) was taken from the Chicago Data Portal (Chicago Department of Public Health, n.d.). This dataset was produced using vital statistics file produced by the Illinois Department of Public Health (IDPH) with life expectancy calculated using the Chiang methodology. The life expectancy data was used to compare this health-related statistic among communities and produce a choropleth map visualizing the disparities. The geojson file of Chicago communities used to produce the choropleth map was taken from ChicagoCrimes Github repository of Taras Novak (Novak, 2017). Health resources for each community was searched using the Foursquare API based on the latitude and longitude of each community gathered utilizing the geopy python package. This data was used to compare the health-resources of each community and cluster them. Foursquare venue categories used in this study are shown in Fig. 1.", 
            "cell_type": "markdown", 
            "metadata": {}
        }, 
        {
            "source": "## References <a name=\"references\"></a>", 
            "cell_type": "markdown", 
            "metadata": {}
        }, 
        {
            "source": "Billaudeau, N., Oppert, J.-M., Simon, C., Charreire, H., Casey, R., Salze, P., \u2026 Chaix, B. (2011). Investigating disparities in spatial accessibility to and characteristics of sport facilities: Direction, strength, and spatial scale of associations with area income. Health & Place, 17(1), 114\u2013121. https://doi.org/https://doi.org/10.1016/j.healthplace.2010.09.004\n\nChicago Department of Public Health. (n.d.). Public Health Statistics- Life Expectancy By Community Area, Chicago: 1990, 2000, 2010. Retrieved August 7, 2019, from https://data.cityofchicago.org/widgets/qjr3-bm53\nCoen, S. E., & Ross, N. A. (2006). Exploring the material basis for health: Characteristics of parks in Montreal neighborhoods with contrasting health outcomes. Health & Place, 12(4), 361\u2013371. https://doi.org/https://doi.org/10.1016/j.healthplace.2005.02.001\n\nHunt, B. R., Tran, G., & Whitman, S. (2015). Life Expectancy Varies in Local Communities in Chicago: Racial and Spatial Disparities and Correlates. Journal of Racial and Ethnic Health Disparities, 2(4), 425\u2013433. https://doi.org/10.1007/s40615-015-0089-8\n\nInagami, S., Cohen, D. A., Finch, B. K., & Asch, S. M. (2006). You Are Where You Shop: Grocery Store Locations, Weight, and Neighborhoods. American Journal of Preventive Medicine, 31(1), 10\u201317. https://doi.org/https://doi.org/10.1016/j.amepre.2006.03.019\n\nKawakami, N., Winkleby, M., Skog, L., Szulkin, R., & Sundquist, K. (2011). Differences in neighborhood accessibility to health-related resources: A nationwide comparison between deprived and affluent neighborhoods in Sweden. Health & Place, 17(1), 132\u2013139. https://doi.org/https://doi.org/10.1016/j.healthplace.2010.09.005\n\nMarmot, M., Allen, J., Bell, R., Bloomer, E., Goldblatt, P., & Consortium for the European Review of Social Determinants of Health and the Health Divide. (2012). WHO European review of social determinants of health and the health divide. Lancet, 380(9846), 1011\u20131029. https://doi.org/10.1016/S0140-6736(12)61228-8\n\nNovak, T. (2017). ChicagoCrimes. Retrieved August 6, 2019, from GitHub repository website: https://github.com/RandomFractals/ChicagoCrimes\n\nNYU Langone News. (2019, June 5). Large Life Expectancy Gaps in U.S. Cities Linked to Racial & Ethnic Segregation by Neighborhood. NYU Langone News. Retrieved from https://nyulangone.org/news/large-life-expectancy-gaps-us-cities-linked-racial-ethnic-segregation-neighborhood\n\nSchencker, L. (2019, June 6). Chicago\u2019s lifespan gap: Streeterville residents live to 90. Englewood residents die at 60. Study finds it\u2019s the largest divide in the U.S. Chicago Tribune. Retrieved from https://www.chicagotribune.com/business/ct-biz-chicago-has-largest-life-expectancy-gap-between-neighborhoods-20190605-story.html\n\nSingh, G., Daus, G., Allender, M., Ramey, C., Martin, E., Perry, C., \u2026 Vedamuthu, I. (2017). Social Determinants of Health in the United States: Addressing Major Health Inequality Trends for the Nation, 1935-2016. International Journal of MCH and AIDS (IJMA), 6(2). https://doi.org/10.21106/ijma.236\n\nWhite, K., & Borrell, L. N. (2011). Racial/ethnic residential segregation: Framing the context of health risk and health disparities. Health & Place, 17(2), 438\u2013448. https://doi.org/https://doi.org/10.1016/j.healthplace.2010.12.002\n\nWilliams, D. R., & Jackson, P. B. (2005). Social Sources Of Racial Disparities In Health. Health Affairs, 24(2), 325\u2013334. https://doi.org/10.1377/hlthaff.24.2.325", 
            "cell_type": "markdown", 
            "metadata": {}
        }, 
        {
            "execution_count": null, 
            "cell_type": "code", 
            "metadata": {}, 
            "outputs": [], 
            "source": ""
        }
    ], 
    "metadata": {
        "kernelspec": {
            "display_name": "Python 3.6", 
            "name": "python3", 
            "language": "python"
        }, 
        "language_info": {
            "mimetype": "text/x-python", 
            "nbconvert_exporter": "python", 
            "version": "3.6.8", 
            "name": "python", 
            "file_extension": ".py", 
            "pygments_lexer": "ipython3", 
            "codemirror_mode": {
                "version": 3, 
                "name": "ipython"
            }
        }
    }, 
    "nbformat": 4
}